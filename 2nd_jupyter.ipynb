{
 "cells": [
  {
   "cell_type": "markdown",
   "id": "fa569158-5d39-483a-a76b-d4a657fa685b",
   "metadata": {},
   "source": [
    "##2nd Jupyter file"
   ]
  },
  {
   "cell_type": "code",
   "execution_count": 1,
   "id": "60fb6791-0f1c-4618-aacb-ea0a3b02366a",
   "metadata": {},
   "outputs": [
    {
     "name": "stdout",
     "output_type": "stream",
     "text": [
      "15\n"
     ]
    }
   ],
   "source": [
    "i= 2\n",
    "j = 3\n",
    "k=(j+i) * j\n",
    "print (k)"
   ]
  },
  {
   "cell_type": "markdown",
   "id": "cb9ac9d6-5665-4b9b-8b6b-0e1055d96799",
   "metadata": {},
   "source": [
    "#This is the start of a list, after three we'll show an image\n",
    "- one\n",
    "- two\n",
    "- three\n",
    "\n",
    "![](https://lh3.googleusercontent.com/proxy/dulScKzfv111da7C0ivkgRHfntoAhzsRy8TUGmlNvUiqfebScIWBsgnndOnNhNoP-rVFaQsGn5vPBnrTgFthVU03l22kjQg)"
   ]
  },
  {
   "cell_type": "code",
   "execution_count": null,
   "id": "cc4a586e-ab1b-4f4b-8ed9-f0a694db7339",
   "metadata": {},
   "outputs": [],
   "source": []
  }
 ],
 "metadata": {
  "kernelspec": {
   "display_name": "Python 3",
   "language": "python",
   "name": "python3"
  },
  "language_info": {
   "codemirror_mode": {
    "name": "ipython",
    "version": 3
   },
   "file_extension": ".py",
   "mimetype": "text/x-python",
   "name": "python",
   "nbconvert_exporter": "python",
   "pygments_lexer": "ipython3",
   "version": "3.8.8"
  }
 },
 "nbformat": 4,
 "nbformat_minor": 5
}
